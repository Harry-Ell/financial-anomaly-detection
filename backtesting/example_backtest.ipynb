{
 "cells": [
  {
   "cell_type": "markdown",
   "id": "15cb18ed",
   "metadata": {},
   "source": [
    "# Example Single Backtest"
   ]
  },
  {
   "cell_type": "markdown",
   "id": "b1e76a85",
   "metadata": {},
   "source": [
    "Single example backtest"
   ]
  },
  {
   "cell_type": "code",
   "execution_count": null,
   "id": "a02e2e06",
   "metadata": {},
   "outputs": [],
   "source": [
    "import matplotlib.pyplot as plt \n",
    "import pandas as pd \n",
    "import sys\n",
    "sys.path.append('..')"
   ]
  },
  {
   "cell_type": "code",
   "execution_count": null,
   "id": "81816f4e",
   "metadata": {},
   "outputs": [],
   "source": [
    "# backtest engine and strategies\n",
    "from backtester import Orchestrator\n",
    "from algorithms.TradeLogic1 import TradingLogic as TradingLogic1"
   ]
  },
  {
   "cell_type": "code",
   "execution_count": null,
   "id": "095608a5",
   "metadata": {},
   "outputs": [],
   "source": [
    "# for testing purposes, we will use data from quantum computing companies. For these, we have data going \n",
    "# back to august 4th, at minute by minute resolution\n",
    "dataset = pd.read_csv('../data/qtm_data.csv', index_col = 'Datetime')\n",
    "equal_weighted_index = dataset.sum(axis=1)\n",
    "normed_index = (equal_weighted_index - equal_weighted_index.iloc[0]) "
   ]
  },
  {
   "cell_type": "markdown",
   "id": "872d705d",
   "metadata": {},
   "source": [
    "# Algorithm 1"
   ]
  },
  {
   "cell_type": "markdown",
   "id": "ac7ce716",
   "metadata": {},
   "source": [
    "Outputs of the orchestrator are: \n",
    "- index 0: log_df, all of the trades which are made, shown via all of the active orders. \n",
    "- index 1:4 Variety of things related to pnl "
   ]
  },
  {
   "cell_type": "code",
   "execution_count": null,
   "id": "b73e9fd0",
   "metadata": {},
   "outputs": [],
   "source": [
    "[0.45394827346073385, np.int64(2), np.int64(1), np.int64(9), 0.0010221366070489906, np.int64(40)]"
   ]
  },
  {
   "cell_type": "code",
   "execution_count": null,
   "id": "ba31aca5",
   "metadata": {},
   "outputs": [],
   "source": [
    "outs1 = Orchestrator(\n",
    "    TradingLogic1,\n",
    "    start_time=\"2025-08-05 14:30:00+00:00\", \n",
    "    dataset = dataset,\n",
    "    alpha = 0.45,  \n",
    "    pcs_removed = 2,\n",
    "    slippage = 1,\n",
    "    unwind_rate=9, \n",
    "    sensitivity=0.001, \n",
    "    min_len=40, \n",
    "    bt_res=1\n",
    "    ).RunOrchestrator() \n",
    "\n",
    "print('Pnl from run:',outs1[1].iloc[-1])"
   ]
  },
  {
   "cell_type": "code",
   "execution_count": null,
   "id": "93623840",
   "metadata": {},
   "outputs": [],
   "source": [
    "# make a df which allows us to offset some of the position vs time plots \n",
    "diff = max(0, len(outs1[1]) - len(outs1[0]))\n",
    "offsets = pd.DataFrame(\n",
    "    0,\n",
    "    index=pd.RangeIndex(diff),\n",
    "    columns=outs1[0].columns\n",
    ")\n",
    "log_df1 = pd.concat([offsets, outs1[0]], axis=0)"
   ]
  },
  {
   "cell_type": "code",
   "execution_count": null,
   "id": "f1463ed9",
   "metadata": {},
   "outputs": [],
   "source": [
    "daybreaks = [380 * i for i in range(70)]\n",
    "fig, axes = plt.subplots(3, figsize=(15,15))\n",
    "fig.suptitle('Strategy 1 Analytics', fontsize = 24)\n",
    "axes[0].plot(range(0, len(outs1[1])), outs1[1])\n",
    "axes[0].plot(normed_index.values)\n",
    "axes[0].set_title('Profit vs Time')\n",
    "axes[0].set_ylabel('Pnl')\n",
    "\n",
    "axes[1].plot(range(0, len(log_df1)), log_df1 * dataset.iloc[-1], label = log_df1.columns)\n",
    "axes[1].set_title('Orders vs time', fontsize = 24)\n",
    "axes[1].legend(loc = 'upper left')\n",
    "\n",
    "positions1 = log_df1.cumsum()\n",
    "axes[2].plot(range(0, len(positions1)), positions1, label = log_df1.columns)\n",
    "axes[2].set_title('Position vs time', fontsize = 24)\n",
    "axes[2].legend(loc = 'upper left')\n",
    "\n",
    "axes = axes.flatten()\n",
    "for ax in axes:\n",
    "    for dbreak in daybreaks:\n",
    "        ax.axvline(dbreak, color = 'red', linestyle = '--', alpha = 0.6)\n",
    "        ax.set_xlim((-100, 8000))\n",
    "fig.tight_layout()\n",
    "plt.show()"
   ]
  },
  {
   "cell_type": "code",
   "execution_count": null,
   "id": "1a855fcb",
   "metadata": {},
   "outputs": [],
   "source": []
  }
 ],
 "metadata": {
  "kernelspec": {
   "display_name": "env",
   "language": "python",
   "name": "python3"
  },
  "language_info": {
   "codemirror_mode": {
    "name": "ipython",
    "version": 3
   },
   "file_extension": ".py",
   "mimetype": "text/x-python",
   "name": "python",
   "nbconvert_exporter": "python",
   "pygments_lexer": "ipython3",
   "version": "3.13.5"
  }
 },
 "nbformat": 4,
 "nbformat_minor": 5
}
